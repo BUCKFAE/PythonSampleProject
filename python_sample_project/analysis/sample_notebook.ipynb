{
 "cells": [
  {
   "cell_type": "code",
   "execution_count": 1,
   "metadata": {},
   "outputs": [],
   "source": [
    "from python_sample_project.math.adder import add\n",
    "from python_sample_project.utils import get_project_root\n",
    "from python_sample_project.data.load_numbers import load_numbers"
   ]
  },
  {
   "cell_type": "code",
   "execution_count": 2,
   "metadata": {},
   "outputs": [
    {
     "name": "stdout",
     "output_type": "stream",
     "text": [
      "Using functions in the notebook!\n",
      "Result: 12\n"
     ]
    }
   ],
   "source": [
    "print('Using functions in the notebook!')\n",
    "\n",
    "res = add(5, 7)\n",
    "print(f'Result: {res}')"
   ]
  },
  {
   "cell_type": "code",
   "execution_count": 3,
   "metadata": {},
   "outputs": [
    {
     "name": "stdout",
     "output_type": "stream",
     "text": [
      "Root directory: /home/buckfae/Documents/PythonSampleProject\n"
     ]
    }
   ],
   "source": [
    "print(f'Root directory: {get_project_root()}')"
   ]
  },
  {
   "cell_type": "code",
   "execution_count": 4,
   "metadata": {},
   "outputs": [
    {
     "name": "stdout",
     "output_type": "stream",
     "text": [
      "Numbers: [(1, 5, 6), (3, 2, 5), (2, 4, 6), (0, 2, 2)]\n"
     ]
    }
   ],
   "source": [
    "numbers = load_numbers()\n",
    "print(f'Numbers: {numbers}')"
   ]
  }
 ],
 "metadata": {
  "kernelspec": {
   "display_name": "venv",
   "language": "python",
   "name": "python3"
  },
  "language_info": {
   "codemirror_mode": {
    "name": "ipython",
    "version": 3
   },
   "file_extension": ".py",
   "mimetype": "text/x-python",
   "name": "python",
   "nbconvert_exporter": "python",
   "pygments_lexer": "ipython3",
   "version": "3.11.3"
  },
  "orig_nbformat": 4
 },
 "nbformat": 4,
 "nbformat_minor": 2
}
